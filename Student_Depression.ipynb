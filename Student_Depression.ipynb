{
  "nbformat": 4,
  "nbformat_minor": 0,
  "metadata": {
    "colab": {
      "name": "Student Depression.ipynb",
      "provenance": [],
      "collapsed_sections": []
    },
    "kernelspec": {
      "display_name": "Python 3",
      "name": "python3"
    },
    "language_info": {
      "name": "python"
    }
  },
  "cells": [
    {
      "cell_type": "markdown",
      "metadata": {
        "id": "r5DqdJrY8N-u"
      },
      "source": [
        "**Mount Drive**"
      ]
    },
    {
      "cell_type": "code",
      "metadata": {
        "colab": {
          "base_uri": "https://localhost:8080/"
        },
        "id": "jdTozzdw7Ueq",
        "outputId": "ebad7645-3a5d-4512-c5bc-173d9886564f"
      },
      "source": [
        "from google.colab import drive\n",
        "drive.mount('/content/gdrive')"
      ],
      "execution_count": null,
      "outputs": [
        {
          "output_type": "stream",
          "name": "stdout",
          "text": [
            "Mounted at /content/gdrive\n"
          ]
        }
      ]
    },
    {
      "cell_type": "markdown",
      "metadata": {
        "id": "8qmrTxZD8qKo"
      },
      "source": [
        "**Import Library**"
      ]
    },
    {
      "cell_type": "code",
      "metadata": {
        "id": "p31wFKc58zS3"
      },
      "source": [
        "import numpy as np\n",
        "import pandas as pd\n",
        "import matplotlib.pyplot as plt\n",
        "import seaborn as sns\n",
        "from sklearn.model_selection import train_test_split\n",
        "from sklearn.linear_model import LogisticRegression\n",
        "from sklearn import metrics\n",
        "#%matplotlib inline\n",
        "import warnings\n",
        "warnings.filterwarnings('ignore')\n",
        "from sklearn.tree import DecisionTreeClassifier\n",
        "import seaborn as sns\n",
        "pd.set_option('display.max_rows', None)"
      ],
      "execution_count": null,
      "outputs": []
    },
    {
      "cell_type": "markdown",
      "metadata": {
        "id": "9t90blYF9n-h"
      },
      "source": [
        "##**Read & Show Dataset**"
      ]
    },
    {
      "cell_type": "code",
      "metadata": {
        "id": "4Th2SCXo9H-9"
      },
      "source": [
        "depressionDataset = pd.read_csv('gdrive/My Drive/Student Depression/Depression Prediction Dataset.csv')"
      ],
      "execution_count": null,
      "outputs": []
    },
    {
      "cell_type": "code",
      "metadata": {
        "colab": {
          "base_uri": "https://localhost:8080/",
          "height": 565
        },
        "id": "vqSsp3WI-Lg-",
        "outputId": "ce662d17-9b7f-463e-90f7-fce53cd7b4ae"
      },
      "source": [
        "depressionDataset.head()"
      ],
      "execution_count": null,
      "outputs": [
        {
          "output_type": "execute_result",
          "data": {
            "text/html": [
              "\n",
              "  <div id=\"df-d650b0a3-be15-4816-ba10-07e2e76c8ddd\">\n",
              "    <div class=\"colab-df-container\">\n",
              "      <div>\n",
              "<style scoped>\n",
              "    .dataframe tbody tr th:only-of-type {\n",
              "        vertical-align: middle;\n",
              "    }\n",
              "\n",
              "    .dataframe tbody tr th {\n",
              "        vertical-align: top;\n",
              "    }\n",
              "\n",
              "    .dataframe thead th {\n",
              "        text-align: right;\n",
              "    }\n",
              "</style>\n",
              "<table border=\"1\" class=\"dataframe\">\n",
              "  <thead>\n",
              "    <tr style=\"text-align: right;\">\n",
              "      <th></th>\n",
              "      <th>AGE</th>\n",
              "      <th>GENDER</th>\n",
              "      <th>PMPCOVID-19</th>\n",
              "      <th>FFP</th>\n",
              "      <th>FPPS</th>\n",
              "      <th>UPSET</th>\n",
              "      <th>HISSUE</th>\n",
              "      <th>ALCDRUINV</th>\n",
              "      <th>ANGER</th>\n",
              "      <th>SL6-8</th>\n",
              "      <th>SUICIDAL</th>\n",
              "      <th>TISM</th>\n",
              "      <th>TWF</th>\n",
              "      <th>WORRIEDF</th>\n",
              "      <th>HARASS</th>\n",
              "      <th>LOIW</th>\n",
              "      <th>INDES</th>\n",
              "      <th>RIDICULED</th>\n",
              "      <th>NIGHTSCREENTIME</th>\n",
              "      <th>WORRIEDP</th>\n",
              "      <th>ATHENS INSOMNIA SCORE</th>\n",
              "      <th>INSOMNIAC</th>\n",
              "      <th>PHQ-9 SCORE</th>\n",
              "      <th>DEPRESSED</th>\n",
              "    </tr>\n",
              "  </thead>\n",
              "  <tbody>\n",
              "    <tr>\n",
              "      <th>0</th>\n",
              "      <td>23</td>\n",
              "      <td>Male</td>\n",
              "      <td>No</td>\n",
              "      <td>Low Financial Problem</td>\n",
              "      <td>No</td>\n",
              "      <td>No</td>\n",
              "      <td>No</td>\n",
              "      <td>No</td>\n",
              "      <td>No</td>\n",
              "      <td>Yes</td>\n",
              "      <td>No</td>\n",
              "      <td>More then 5 hour</td>\n",
              "      <td>2-4 hour</td>\n",
              "      <td>No</td>\n",
              "      <td>No</td>\n",
              "      <td>No</td>\n",
              "      <td>No</td>\n",
              "      <td>No</td>\n",
              "      <td>2-4 hour</td>\n",
              "      <td>Yes</td>\n",
              "      <td>6</td>\n",
              "      <td>Yes</td>\n",
              "      <td>2</td>\n",
              "      <td>0</td>\n",
              "    </tr>\n",
              "    <tr>\n",
              "      <th>1</th>\n",
              "      <td>26</td>\n",
              "      <td>Male</td>\n",
              "      <td>No</td>\n",
              "      <td>Low Financial Problem</td>\n",
              "      <td>No</td>\n",
              "      <td>No</td>\n",
              "      <td>No</td>\n",
              "      <td>No</td>\n",
              "      <td>No</td>\n",
              "      <td>Yes</td>\n",
              "      <td>No</td>\n",
              "      <td>More then 5 hour</td>\n",
              "      <td>2-4 hour</td>\n",
              "      <td>No</td>\n",
              "      <td>No</td>\n",
              "      <td>No</td>\n",
              "      <td>Yes</td>\n",
              "      <td>No</td>\n",
              "      <td>Less then 1 hour</td>\n",
              "      <td>No</td>\n",
              "      <td>7</td>\n",
              "      <td>Yes</td>\n",
              "      <td>4</td>\n",
              "      <td>0</td>\n",
              "    </tr>\n",
              "    <tr>\n",
              "      <th>2</th>\n",
              "      <td>24</td>\n",
              "      <td>Female</td>\n",
              "      <td>No</td>\n",
              "      <td>No Financial Problem</td>\n",
              "      <td>No</td>\n",
              "      <td>Yes</td>\n",
              "      <td>No</td>\n",
              "      <td>No</td>\n",
              "      <td>Yes</td>\n",
              "      <td>Yes</td>\n",
              "      <td>No</td>\n",
              "      <td>More then 5 hour</td>\n",
              "      <td>Less then 1 hour</td>\n",
              "      <td>Yes</td>\n",
              "      <td>No</td>\n",
              "      <td>Yes</td>\n",
              "      <td>Yes</td>\n",
              "      <td>No</td>\n",
              "      <td>More then 5 hour</td>\n",
              "      <td>Yes</td>\n",
              "      <td>9</td>\n",
              "      <td>Yes</td>\n",
              "      <td>9</td>\n",
              "      <td>1</td>\n",
              "    </tr>\n",
              "    <tr>\n",
              "      <th>3</th>\n",
              "      <td>22</td>\n",
              "      <td>Female</td>\n",
              "      <td>No</td>\n",
              "      <td>No Financial Problem</td>\n",
              "      <td>No</td>\n",
              "      <td>No</td>\n",
              "      <td>No</td>\n",
              "      <td>No</td>\n",
              "      <td>No</td>\n",
              "      <td>No</td>\n",
              "      <td>No</td>\n",
              "      <td>More then 5 hour</td>\n",
              "      <td>More then 5 hour</td>\n",
              "      <td>No</td>\n",
              "      <td>No</td>\n",
              "      <td>No</td>\n",
              "      <td>No</td>\n",
              "      <td>No</td>\n",
              "      <td>More then 5 hour</td>\n",
              "      <td>No</td>\n",
              "      <td>0</td>\n",
              "      <td>No</td>\n",
              "      <td>0</td>\n",
              "      <td>0</td>\n",
              "    </tr>\n",
              "    <tr>\n",
              "      <th>4</th>\n",
              "      <td>22</td>\n",
              "      <td>Male</td>\n",
              "      <td>No</td>\n",
              "      <td>Low Financial Problem</td>\n",
              "      <td>No</td>\n",
              "      <td>No</td>\n",
              "      <td>Yes</td>\n",
              "      <td>Yes</td>\n",
              "      <td>No</td>\n",
              "      <td>No</td>\n",
              "      <td>No</td>\n",
              "      <td>More then 5 hour</td>\n",
              "      <td>2-4 hour</td>\n",
              "      <td>No</td>\n",
              "      <td>No</td>\n",
              "      <td>Yes</td>\n",
              "      <td>Yes</td>\n",
              "      <td>No</td>\n",
              "      <td>More then 5 hour</td>\n",
              "      <td>Yes</td>\n",
              "      <td>15</td>\n",
              "      <td>Yes</td>\n",
              "      <td>5</td>\n",
              "      <td>1</td>\n",
              "    </tr>\n",
              "  </tbody>\n",
              "</table>\n",
              "</div>\n",
              "      <button class=\"colab-df-convert\" onclick=\"convertToInteractive('df-d650b0a3-be15-4816-ba10-07e2e76c8ddd')\"\n",
              "              title=\"Convert this dataframe to an interactive table.\"\n",
              "              style=\"display:none;\">\n",
              "        \n",
              "  <svg xmlns=\"http://www.w3.org/2000/svg\" height=\"24px\"viewBox=\"0 0 24 24\"\n",
              "       width=\"24px\">\n",
              "    <path d=\"M0 0h24v24H0V0z\" fill=\"none\"/>\n",
              "    <path d=\"M18.56 5.44l.94 2.06.94-2.06 2.06-.94-2.06-.94-.94-2.06-.94 2.06-2.06.94zm-11 1L8.5 8.5l.94-2.06 2.06-.94-2.06-.94L8.5 2.5l-.94 2.06-2.06.94zm10 10l.94 2.06.94-2.06 2.06-.94-2.06-.94-.94-2.06-.94 2.06-2.06.94z\"/><path d=\"M17.41 7.96l-1.37-1.37c-.4-.4-.92-.59-1.43-.59-.52 0-1.04.2-1.43.59L10.3 9.45l-7.72 7.72c-.78.78-.78 2.05 0 2.83L4 21.41c.39.39.9.59 1.41.59.51 0 1.02-.2 1.41-.59l7.78-7.78 2.81-2.81c.8-.78.8-2.07 0-2.86zM5.41 20L4 18.59l7.72-7.72 1.47 1.35L5.41 20z\"/>\n",
              "  </svg>\n",
              "      </button>\n",
              "      \n",
              "  <style>\n",
              "    .colab-df-container {\n",
              "      display:flex;\n",
              "      flex-wrap:wrap;\n",
              "      gap: 12px;\n",
              "    }\n",
              "\n",
              "    .colab-df-convert {\n",
              "      background-color: #E8F0FE;\n",
              "      border: none;\n",
              "      border-radius: 50%;\n",
              "      cursor: pointer;\n",
              "      display: none;\n",
              "      fill: #1967D2;\n",
              "      height: 32px;\n",
              "      padding: 0 0 0 0;\n",
              "      width: 32px;\n",
              "    }\n",
              "\n",
              "    .colab-df-convert:hover {\n",
              "      background-color: #E2EBFA;\n",
              "      box-shadow: 0px 1px 2px rgba(60, 64, 67, 0.3), 0px 1px 3px 1px rgba(60, 64, 67, 0.15);\n",
              "      fill: #174EA6;\n",
              "    }\n",
              "\n",
              "    [theme=dark] .colab-df-convert {\n",
              "      background-color: #3B4455;\n",
              "      fill: #D2E3FC;\n",
              "    }\n",
              "\n",
              "    [theme=dark] .colab-df-convert:hover {\n",
              "      background-color: #434B5C;\n",
              "      box-shadow: 0px 1px 3px 1px rgba(0, 0, 0, 0.15);\n",
              "      filter: drop-shadow(0px 1px 2px rgba(0, 0, 0, 0.3));\n",
              "      fill: #FFFFFF;\n",
              "    }\n",
              "  </style>\n",
              "\n",
              "      <script>\n",
              "        const buttonEl =\n",
              "          document.querySelector('#df-d650b0a3-be15-4816-ba10-07e2e76c8ddd button.colab-df-convert');\n",
              "        buttonEl.style.display =\n",
              "          google.colab.kernel.accessAllowed ? 'block' : 'none';\n",
              "\n",
              "        async function convertToInteractive(key) {\n",
              "          const element = document.querySelector('#df-d650b0a3-be15-4816-ba10-07e2e76c8ddd');\n",
              "          const dataTable =\n",
              "            await google.colab.kernel.invokeFunction('convertToInteractive',\n",
              "                                                     [key], {});\n",
              "          if (!dataTable) return;\n",
              "\n",
              "          const docLinkHtml = 'Like what you see? Visit the ' +\n",
              "            '<a target=\"_blank\" href=https://colab.research.google.com/notebooks/data_table.ipynb>data table notebook</a>'\n",
              "            + ' to learn more about interactive tables.';\n",
              "          element.innerHTML = '';\n",
              "          dataTable['output_type'] = 'display_data';\n",
              "          await google.colab.output.renderOutput(dataTable, element);\n",
              "          const docLink = document.createElement('div');\n",
              "          docLink.innerHTML = docLinkHtml;\n",
              "          element.appendChild(docLink);\n",
              "        }\n",
              "      </script>\n",
              "    </div>\n",
              "  </div>\n",
              "  "
            ],
            "text/plain": [
              "   AGE  GENDER PMPCOVID-19  ... INSOMNIAC PHQ-9 SCORE DEPRESSED\n",
              "0   23    Male          No  ...       Yes           2         0\n",
              "1   26    Male          No  ...       Yes           4         0\n",
              "2   24  Female          No  ...       Yes           9         1\n",
              "3   22  Female          No  ...        No           0         0\n",
              "4   22    Male          No  ...       Yes           5         1\n",
              "\n",
              "[5 rows x 24 columns]"
            ]
          },
          "metadata": {},
          "execution_count": 4
        }
      ]
    },
    {
      "cell_type": "code",
      "metadata": {
        "colab": {
          "base_uri": "https://localhost:8080/",
          "height": 300
        },
        "id": "DjyfoPCNejBY",
        "outputId": "23d17d8d-6153-42e4-bebb-7e161e79640c"
      },
      "source": [
        "depressionDataset.describe()"
      ],
      "execution_count": null,
      "outputs": [
        {
          "output_type": "execute_result",
          "data": {
            "text/html": [
              "\n",
              "  <div id=\"df-1fbb2196-f251-4702-b72c-f56c2c20d0d4\">\n",
              "    <div class=\"colab-df-container\">\n",
              "      <div>\n",
              "<style scoped>\n",
              "    .dataframe tbody tr th:only-of-type {\n",
              "        vertical-align: middle;\n",
              "    }\n",
              "\n",
              "    .dataframe tbody tr th {\n",
              "        vertical-align: top;\n",
              "    }\n",
              "\n",
              "    .dataframe thead th {\n",
              "        text-align: right;\n",
              "    }\n",
              "</style>\n",
              "<table border=\"1\" class=\"dataframe\">\n",
              "  <thead>\n",
              "    <tr style=\"text-align: right;\">\n",
              "      <th></th>\n",
              "      <th>AGE</th>\n",
              "      <th>ATHENS INSOMNIA SCORE</th>\n",
              "      <th>PHQ-9 SCORE</th>\n",
              "      <th>DEPRESSED</th>\n",
              "    </tr>\n",
              "  </thead>\n",
              "  <tbody>\n",
              "    <tr>\n",
              "      <th>count</th>\n",
              "      <td>411.000000</td>\n",
              "      <td>411.000000</td>\n",
              "      <td>411.000000</td>\n",
              "      <td>411.000000</td>\n",
              "    </tr>\n",
              "    <tr>\n",
              "      <th>mean</th>\n",
              "      <td>22.318735</td>\n",
              "      <td>3.618005</td>\n",
              "      <td>3.503650</td>\n",
              "      <td>0.267640</td>\n",
              "    </tr>\n",
              "    <tr>\n",
              "      <th>std</th>\n",
              "      <td>2.154545</td>\n",
              "      <td>4.161680</td>\n",
              "      <td>4.081112</td>\n",
              "      <td>0.443268</td>\n",
              "    </tr>\n",
              "    <tr>\n",
              "      <th>min</th>\n",
              "      <td>18.000000</td>\n",
              "      <td>0.000000</td>\n",
              "      <td>0.000000</td>\n",
              "      <td>0.000000</td>\n",
              "    </tr>\n",
              "    <tr>\n",
              "      <th>25%</th>\n",
              "      <td>21.000000</td>\n",
              "      <td>1.000000</td>\n",
              "      <td>1.000000</td>\n",
              "      <td>0.000000</td>\n",
              "    </tr>\n",
              "    <tr>\n",
              "      <th>50%</th>\n",
              "      <td>22.000000</td>\n",
              "      <td>2.000000</td>\n",
              "      <td>2.000000</td>\n",
              "      <td>0.000000</td>\n",
              "    </tr>\n",
              "    <tr>\n",
              "      <th>75%</th>\n",
              "      <td>23.000000</td>\n",
              "      <td>5.000000</td>\n",
              "      <td>5.000000</td>\n",
              "      <td>1.000000</td>\n",
              "    </tr>\n",
              "    <tr>\n",
              "      <th>max</th>\n",
              "      <td>33.000000</td>\n",
              "      <td>22.000000</td>\n",
              "      <td>27.000000</td>\n",
              "      <td>1.000000</td>\n",
              "    </tr>\n",
              "  </tbody>\n",
              "</table>\n",
              "</div>\n",
              "      <button class=\"colab-df-convert\" onclick=\"convertToInteractive('df-1fbb2196-f251-4702-b72c-f56c2c20d0d4')\"\n",
              "              title=\"Convert this dataframe to an interactive table.\"\n",
              "              style=\"display:none;\">\n",
              "        \n",
              "  <svg xmlns=\"http://www.w3.org/2000/svg\" height=\"24px\"viewBox=\"0 0 24 24\"\n",
              "       width=\"24px\">\n",
              "    <path d=\"M0 0h24v24H0V0z\" fill=\"none\"/>\n",
              "    <path d=\"M18.56 5.44l.94 2.06.94-2.06 2.06-.94-2.06-.94-.94-2.06-.94 2.06-2.06.94zm-11 1L8.5 8.5l.94-2.06 2.06-.94-2.06-.94L8.5 2.5l-.94 2.06-2.06.94zm10 10l.94 2.06.94-2.06 2.06-.94-2.06-.94-.94-2.06-.94 2.06-2.06.94z\"/><path d=\"M17.41 7.96l-1.37-1.37c-.4-.4-.92-.59-1.43-.59-.52 0-1.04.2-1.43.59L10.3 9.45l-7.72 7.72c-.78.78-.78 2.05 0 2.83L4 21.41c.39.39.9.59 1.41.59.51 0 1.02-.2 1.41-.59l7.78-7.78 2.81-2.81c.8-.78.8-2.07 0-2.86zM5.41 20L4 18.59l7.72-7.72 1.47 1.35L5.41 20z\"/>\n",
              "  </svg>\n",
              "      </button>\n",
              "      \n",
              "  <style>\n",
              "    .colab-df-container {\n",
              "      display:flex;\n",
              "      flex-wrap:wrap;\n",
              "      gap: 12px;\n",
              "    }\n",
              "\n",
              "    .colab-df-convert {\n",
              "      background-color: #E8F0FE;\n",
              "      border: none;\n",
              "      border-radius: 50%;\n",
              "      cursor: pointer;\n",
              "      display: none;\n",
              "      fill: #1967D2;\n",
              "      height: 32px;\n",
              "      padding: 0 0 0 0;\n",
              "      width: 32px;\n",
              "    }\n",
              "\n",
              "    .colab-df-convert:hover {\n",
              "      background-color: #E2EBFA;\n",
              "      box-shadow: 0px 1px 2px rgba(60, 64, 67, 0.3), 0px 1px 3px 1px rgba(60, 64, 67, 0.15);\n",
              "      fill: #174EA6;\n",
              "    }\n",
              "\n",
              "    [theme=dark] .colab-df-convert {\n",
              "      background-color: #3B4455;\n",
              "      fill: #D2E3FC;\n",
              "    }\n",
              "\n",
              "    [theme=dark] .colab-df-convert:hover {\n",
              "      background-color: #434B5C;\n",
              "      box-shadow: 0px 1px 3px 1px rgba(0, 0, 0, 0.15);\n",
              "      filter: drop-shadow(0px 1px 2px rgba(0, 0, 0, 0.3));\n",
              "      fill: #FFFFFF;\n",
              "    }\n",
              "  </style>\n",
              "\n",
              "      <script>\n",
              "        const buttonEl =\n",
              "          document.querySelector('#df-1fbb2196-f251-4702-b72c-f56c2c20d0d4 button.colab-df-convert');\n",
              "        buttonEl.style.display =\n",
              "          google.colab.kernel.accessAllowed ? 'block' : 'none';\n",
              "\n",
              "        async function convertToInteractive(key) {\n",
              "          const element = document.querySelector('#df-1fbb2196-f251-4702-b72c-f56c2c20d0d4');\n",
              "          const dataTable =\n",
              "            await google.colab.kernel.invokeFunction('convertToInteractive',\n",
              "                                                     [key], {});\n",
              "          if (!dataTable) return;\n",
              "\n",
              "          const docLinkHtml = 'Like what you see? Visit the ' +\n",
              "            '<a target=\"_blank\" href=https://colab.research.google.com/notebooks/data_table.ipynb>data table notebook</a>'\n",
              "            + ' to learn more about interactive tables.';\n",
              "          element.innerHTML = '';\n",
              "          dataTable['output_type'] = 'display_data';\n",
              "          await google.colab.output.renderOutput(dataTable, element);\n",
              "          const docLink = document.createElement('div');\n",
              "          docLink.innerHTML = docLinkHtml;\n",
              "          element.appendChild(docLink);\n",
              "        }\n",
              "      </script>\n",
              "    </div>\n",
              "  </div>\n",
              "  "
            ],
            "text/plain": [
              "              AGE  ATHENS INSOMNIA SCORE  PHQ-9 SCORE   DEPRESSED\n",
              "count  411.000000             411.000000   411.000000  411.000000\n",
              "mean    22.318735               3.618005     3.503650    0.267640\n",
              "std      2.154545               4.161680     4.081112    0.443268\n",
              "min     18.000000               0.000000     0.000000    0.000000\n",
              "25%     21.000000               1.000000     1.000000    0.000000\n",
              "50%     22.000000               2.000000     2.000000    0.000000\n",
              "75%     23.000000               5.000000     5.000000    1.000000\n",
              "max     33.000000              22.000000    27.000000    1.000000"
            ]
          },
          "metadata": {},
          "execution_count": 5
        }
      ]
    },
    {
      "cell_type": "markdown",
      "metadata": {
        "id": "EXTvZVdwA71J"
      },
      "source": [
        "##**Mapping**"
      ]
    },
    {
      "cell_type": "code",
      "metadata": {
        "id": "aicen18hIMHj"
      },
      "source": [
        "depression_Dataset = [depressionDataset]"
      ],
      "execution_count": null,
      "outputs": []
    },
    {
      "cell_type": "code",
      "metadata": {
        "id": "THODDeKoR3QZ"
      },
      "source": [
        "#Age Column\n",
        "for dataset in depression_Dataset:\n",
        "  dataset.loc[dataset['AGE']<=15, 'AGE'] = 0\n",
        "  dataset.loc[(dataset['AGE']>15) & (dataset['AGE']<=20), 'AGE'] = 1\n",
        "  dataset.loc[(dataset['AGE']>20) & (dataset['AGE']<=25), 'AGE'] = 2\n",
        "  dataset.loc[dataset['AGE'] >25, 'AGE'] = 3"
      ],
      "execution_count": null,
      "outputs": []
    },
    {
      "cell_type": "code",
      "metadata": {
        "id": "YvLXfSyWIOsE"
      },
      "source": [
        "# Gender Column\n",
        "gender_maping = {\"Male\":1,\"Female\":0}\n",
        "for dataset in depression_Dataset:\n",
        "  dataset['GENDER'] = dataset['GENDER'].map(gender_maping)\n",
        "\n",
        "# Financial Problem Column\n",
        "FFP_maping = {\"No Financial Problem\":0,\"Low Financial Problem\":1, \"Serious FInancial Problem\":2}\n",
        "for dataset in depression_Dataset:\n",
        "  dataset['FFP'] = dataset['FFP'].map(FFP_maping)"
      ],
      "execution_count": null,
      "outputs": []
    },
    {
      "cell_type": "code",
      "metadata": {
        "id": "mWo_nbjCBAXe"
      },
      "source": [
        "# Function for All Yes/No\n",
        "def YesNoAns(column):\n",
        "    mapping = {\"No\":0,\"Yes\":1}\n",
        "    for dataset in depression_Dataset:\n",
        "      dataset[column] = dataset[column].map(mapping)\n",
        "\n",
        "YesNoAns('PMPCOVID-19')\n",
        "YesNoAns('FPPS')\n",
        "YesNoAns('UPSET')\n",
        "YesNoAns('HISSUE')\n",
        "YesNoAns('ALCDRUINV')\n",
        "YesNoAns('ANGER')\n",
        "YesNoAns('SL6-8')\n",
        "YesNoAns('SUICIDAL')\n",
        "YesNoAns('WORRIEDF')\n",
        "YesNoAns('HARASS')\n",
        "YesNoAns('LOIW')\n",
        "YesNoAns('INDES')\n",
        "YesNoAns('RIDICULED')\n",
        "YesNoAns('WORRIEDP')\n",
        "YesNoAns('INSOMNIAC')"
      ],
      "execution_count": null,
      "outputs": []
    },
    {
      "cell_type": "code",
      "metadata": {
        "id": "NeZETVlaEdPa"
      },
      "source": [
        "#Function for Spending Time\n",
        "def SpendTime(column):\n",
        "    mapping = {\"Less then 1 hour\":0,\"2-4 hour\":1, \"More then 5 hour\":2}\n",
        "    for dataset in depression_Dataset:\n",
        "      dataset[column] = dataset[column].map(mapping)\n",
        "\n",
        "SpendTime('TISM')\n",
        "SpendTime('TWF')\n",
        "SpendTime('NIGHTSCREENTIME')"
      ],
      "execution_count": null,
      "outputs": []
    },
    {
      "cell_type": "code",
      "metadata": {
        "colab": {
          "base_uri": "https://localhost:8080/",
          "height": 305
        },
        "id": "PadvCD3xCRtx",
        "outputId": "8a993f25-0acf-42f1-d715-f1e1c7f9bfc7"
      },
      "source": [
        "depressionDataset.head()"
      ],
      "execution_count": null,
      "outputs": [
        {
          "output_type": "execute_result",
          "data": {
            "text/html": [
              "\n",
              "  <div id=\"df-2a9fd0f1-7b10-4747-ae66-ea09305ae7f5\">\n",
              "    <div class=\"colab-df-container\">\n",
              "      <div>\n",
              "<style scoped>\n",
              "    .dataframe tbody tr th:only-of-type {\n",
              "        vertical-align: middle;\n",
              "    }\n",
              "\n",
              "    .dataframe tbody tr th {\n",
              "        vertical-align: top;\n",
              "    }\n",
              "\n",
              "    .dataframe thead th {\n",
              "        text-align: right;\n",
              "    }\n",
              "</style>\n",
              "<table border=\"1\" class=\"dataframe\">\n",
              "  <thead>\n",
              "    <tr style=\"text-align: right;\">\n",
              "      <th></th>\n",
              "      <th>AGE</th>\n",
              "      <th>GENDER</th>\n",
              "      <th>PMPCOVID-19</th>\n",
              "      <th>FFP</th>\n",
              "      <th>FPPS</th>\n",
              "      <th>UPSET</th>\n",
              "      <th>HISSUE</th>\n",
              "      <th>ALCDRUINV</th>\n",
              "      <th>ANGER</th>\n",
              "      <th>SL6-8</th>\n",
              "      <th>SUICIDAL</th>\n",
              "      <th>TISM</th>\n",
              "      <th>TWF</th>\n",
              "      <th>WORRIEDF</th>\n",
              "      <th>HARASS</th>\n",
              "      <th>LOIW</th>\n",
              "      <th>INDES</th>\n",
              "      <th>RIDICULED</th>\n",
              "      <th>NIGHTSCREENTIME</th>\n",
              "      <th>WORRIEDP</th>\n",
              "      <th>ATHENS INSOMNIA SCORE</th>\n",
              "      <th>INSOMNIAC</th>\n",
              "      <th>PHQ-9 SCORE</th>\n",
              "      <th>DEPRESSED</th>\n",
              "    </tr>\n",
              "  </thead>\n",
              "  <tbody>\n",
              "    <tr>\n",
              "      <th>0</th>\n",
              "      <td>2</td>\n",
              "      <td>1</td>\n",
              "      <td>0</td>\n",
              "      <td>1</td>\n",
              "      <td>0</td>\n",
              "      <td>0</td>\n",
              "      <td>0</td>\n",
              "      <td>0</td>\n",
              "      <td>0</td>\n",
              "      <td>1</td>\n",
              "      <td>0</td>\n",
              "      <td>2</td>\n",
              "      <td>1</td>\n",
              "      <td>0</td>\n",
              "      <td>0</td>\n",
              "      <td>0</td>\n",
              "      <td>0</td>\n",
              "      <td>0</td>\n",
              "      <td>1</td>\n",
              "      <td>1</td>\n",
              "      <td>6</td>\n",
              "      <td>1</td>\n",
              "      <td>2</td>\n",
              "      <td>0</td>\n",
              "    </tr>\n",
              "    <tr>\n",
              "      <th>1</th>\n",
              "      <td>3</td>\n",
              "      <td>1</td>\n",
              "      <td>0</td>\n",
              "      <td>1</td>\n",
              "      <td>0</td>\n",
              "      <td>0</td>\n",
              "      <td>0</td>\n",
              "      <td>0</td>\n",
              "      <td>0</td>\n",
              "      <td>1</td>\n",
              "      <td>0</td>\n",
              "      <td>2</td>\n",
              "      <td>1</td>\n",
              "      <td>0</td>\n",
              "      <td>0</td>\n",
              "      <td>0</td>\n",
              "      <td>1</td>\n",
              "      <td>0</td>\n",
              "      <td>0</td>\n",
              "      <td>0</td>\n",
              "      <td>7</td>\n",
              "      <td>1</td>\n",
              "      <td>4</td>\n",
              "      <td>0</td>\n",
              "    </tr>\n",
              "    <tr>\n",
              "      <th>2</th>\n",
              "      <td>2</td>\n",
              "      <td>0</td>\n",
              "      <td>0</td>\n",
              "      <td>0</td>\n",
              "      <td>0</td>\n",
              "      <td>1</td>\n",
              "      <td>0</td>\n",
              "      <td>0</td>\n",
              "      <td>1</td>\n",
              "      <td>1</td>\n",
              "      <td>0</td>\n",
              "      <td>2</td>\n",
              "      <td>0</td>\n",
              "      <td>1</td>\n",
              "      <td>0</td>\n",
              "      <td>1</td>\n",
              "      <td>1</td>\n",
              "      <td>0</td>\n",
              "      <td>2</td>\n",
              "      <td>1</td>\n",
              "      <td>9</td>\n",
              "      <td>1</td>\n",
              "      <td>9</td>\n",
              "      <td>1</td>\n",
              "    </tr>\n",
              "    <tr>\n",
              "      <th>3</th>\n",
              "      <td>2</td>\n",
              "      <td>0</td>\n",
              "      <td>0</td>\n",
              "      <td>0</td>\n",
              "      <td>0</td>\n",
              "      <td>0</td>\n",
              "      <td>0</td>\n",
              "      <td>0</td>\n",
              "      <td>0</td>\n",
              "      <td>0</td>\n",
              "      <td>0</td>\n",
              "      <td>2</td>\n",
              "      <td>2</td>\n",
              "      <td>0</td>\n",
              "      <td>0</td>\n",
              "      <td>0</td>\n",
              "      <td>0</td>\n",
              "      <td>0</td>\n",
              "      <td>2</td>\n",
              "      <td>0</td>\n",
              "      <td>0</td>\n",
              "      <td>0</td>\n",
              "      <td>0</td>\n",
              "      <td>0</td>\n",
              "    </tr>\n",
              "    <tr>\n",
              "      <th>4</th>\n",
              "      <td>2</td>\n",
              "      <td>1</td>\n",
              "      <td>0</td>\n",
              "      <td>1</td>\n",
              "      <td>0</td>\n",
              "      <td>0</td>\n",
              "      <td>1</td>\n",
              "      <td>1</td>\n",
              "      <td>0</td>\n",
              "      <td>0</td>\n",
              "      <td>0</td>\n",
              "      <td>2</td>\n",
              "      <td>1</td>\n",
              "      <td>0</td>\n",
              "      <td>0</td>\n",
              "      <td>1</td>\n",
              "      <td>1</td>\n",
              "      <td>0</td>\n",
              "      <td>2</td>\n",
              "      <td>1</td>\n",
              "      <td>15</td>\n",
              "      <td>1</td>\n",
              "      <td>5</td>\n",
              "      <td>1</td>\n",
              "    </tr>\n",
              "  </tbody>\n",
              "</table>\n",
              "</div>\n",
              "      <button class=\"colab-df-convert\" onclick=\"convertToInteractive('df-2a9fd0f1-7b10-4747-ae66-ea09305ae7f5')\"\n",
              "              title=\"Convert this dataframe to an interactive table.\"\n",
              "              style=\"display:none;\">\n",
              "        \n",
              "  <svg xmlns=\"http://www.w3.org/2000/svg\" height=\"24px\"viewBox=\"0 0 24 24\"\n",
              "       width=\"24px\">\n",
              "    <path d=\"M0 0h24v24H0V0z\" fill=\"none\"/>\n",
              "    <path d=\"M18.56 5.44l.94 2.06.94-2.06 2.06-.94-2.06-.94-.94-2.06-.94 2.06-2.06.94zm-11 1L8.5 8.5l.94-2.06 2.06-.94-2.06-.94L8.5 2.5l-.94 2.06-2.06.94zm10 10l.94 2.06.94-2.06 2.06-.94-2.06-.94-.94-2.06-.94 2.06-2.06.94z\"/><path d=\"M17.41 7.96l-1.37-1.37c-.4-.4-.92-.59-1.43-.59-.52 0-1.04.2-1.43.59L10.3 9.45l-7.72 7.72c-.78.78-.78 2.05 0 2.83L4 21.41c.39.39.9.59 1.41.59.51 0 1.02-.2 1.41-.59l7.78-7.78 2.81-2.81c.8-.78.8-2.07 0-2.86zM5.41 20L4 18.59l7.72-7.72 1.47 1.35L5.41 20z\"/>\n",
              "  </svg>\n",
              "      </button>\n",
              "      \n",
              "  <style>\n",
              "    .colab-df-container {\n",
              "      display:flex;\n",
              "      flex-wrap:wrap;\n",
              "      gap: 12px;\n",
              "    }\n",
              "\n",
              "    .colab-df-convert {\n",
              "      background-color: #E8F0FE;\n",
              "      border: none;\n",
              "      border-radius: 50%;\n",
              "      cursor: pointer;\n",
              "      display: none;\n",
              "      fill: #1967D2;\n",
              "      height: 32px;\n",
              "      padding: 0 0 0 0;\n",
              "      width: 32px;\n",
              "    }\n",
              "\n",
              "    .colab-df-convert:hover {\n",
              "      background-color: #E2EBFA;\n",
              "      box-shadow: 0px 1px 2px rgba(60, 64, 67, 0.3), 0px 1px 3px 1px rgba(60, 64, 67, 0.15);\n",
              "      fill: #174EA6;\n",
              "    }\n",
              "\n",
              "    [theme=dark] .colab-df-convert {\n",
              "      background-color: #3B4455;\n",
              "      fill: #D2E3FC;\n",
              "    }\n",
              "\n",
              "    [theme=dark] .colab-df-convert:hover {\n",
              "      background-color: #434B5C;\n",
              "      box-shadow: 0px 1px 3px 1px rgba(0, 0, 0, 0.15);\n",
              "      filter: drop-shadow(0px 1px 2px rgba(0, 0, 0, 0.3));\n",
              "      fill: #FFFFFF;\n",
              "    }\n",
              "  </style>\n",
              "\n",
              "      <script>\n",
              "        const buttonEl =\n",
              "          document.querySelector('#df-2a9fd0f1-7b10-4747-ae66-ea09305ae7f5 button.colab-df-convert');\n",
              "        buttonEl.style.display =\n",
              "          google.colab.kernel.accessAllowed ? 'block' : 'none';\n",
              "\n",
              "        async function convertToInteractive(key) {\n",
              "          const element = document.querySelector('#df-2a9fd0f1-7b10-4747-ae66-ea09305ae7f5');\n",
              "          const dataTable =\n",
              "            await google.colab.kernel.invokeFunction('convertToInteractive',\n",
              "                                                     [key], {});\n",
              "          if (!dataTable) return;\n",
              "\n",
              "          const docLinkHtml = 'Like what you see? Visit the ' +\n",
              "            '<a target=\"_blank\" href=https://colab.research.google.com/notebooks/data_table.ipynb>data table notebook</a>'\n",
              "            + ' to learn more about interactive tables.';\n",
              "          element.innerHTML = '';\n",
              "          dataTable['output_type'] = 'display_data';\n",
              "          await google.colab.output.renderOutput(dataTable, element);\n",
              "          const docLink = document.createElement('div');\n",
              "          docLink.innerHTML = docLinkHtml;\n",
              "          element.appendChild(docLink);\n",
              "        }\n",
              "      </script>\n",
              "    </div>\n",
              "  </div>\n",
              "  "
            ],
            "text/plain": [
              "   AGE  GENDER  PMPCOVID-19  ...  INSOMNIAC  PHQ-9 SCORE  DEPRESSED\n",
              "0    2       1            0  ...          1            2          0\n",
              "1    3       1            0  ...          1            4          0\n",
              "2    2       0            0  ...          1            9          1\n",
              "3    2       0            0  ...          0            0          0\n",
              "4    2       1            0  ...          1            5          1\n",
              "\n",
              "[5 rows x 24 columns]"
            ]
          },
          "metadata": {},
          "execution_count": 11
        }
      ]
    },
    {
      "cell_type": "markdown",
      "metadata": {
        "id": "RtL13CDcik9Q"
      },
      "source": [
        "##**Devide and Train Test**"
      ]
    },
    {
      "cell_type": "markdown",
      "metadata": {
        "id": "L7QsEQ6cQkov"
      },
      "source": [
        "**Dividing Dataset**"
      ]
    },
    {
      "cell_type": "code",
      "metadata": {
        "id": "ROJRFwz3-c8y"
      },
      "source": [
        "X = depressionDataset[['AGE','GENDER','PMPCOVID-19','FFP','FPPS','UPSET','HISSUE','ALCDRUINV','ANGER','SL6-8','SUICIDAL','TISM','TWF','WORRIEDF','HARASS','LOIW','INDES','RIDICULED','NIGHTSCREENTIME','WORRIEDP','INSOMNIAC']]\n",
        "y = depressionDataset[['DEPRESSED']]"
      ],
      "execution_count": null,
      "outputs": []
    },
    {
      "cell_type": "markdown",
      "metadata": {
        "id": "4JkLjwGbQqTs"
      },
      "source": [
        "**Train and Test**"
      ]
    },
    {
      "cell_type": "code",
      "metadata": {
        "id": "4pZtnXv0Qs9i"
      },
      "source": [
        "X_train,X_test,y_train,y_test=train_test_split(X,y,test_size=0.3,random_state=123)"
      ],
      "execution_count": null,
      "outputs": []
    },
    {
      "cell_type": "markdown",
      "metadata": {
        "id": "qepTQtMGipla"
      },
      "source": [
        "##**Apply Classifiers**"
      ]
    },
    {
      "cell_type": "markdown",
      "metadata": {
        "id": "UlCdSV_9ThCZ"
      },
      "source": [
        "**Logistic Regression**"
      ]
    },
    {
      "cell_type": "code",
      "metadata": {
        "colab": {
          "base_uri": "https://localhost:8080/"
        },
        "id": "o7G1DWFuTkPS",
        "outputId": "a304ae19-8d81-4864-8999-80fd811db53c"
      },
      "source": [
        "logRegression=LogisticRegression()\n",
        "logRegression.fit(X_train,y_train)\n",
        "\n",
        "y_predictionLogistic=logRegression.predict(X_test)\n",
        "\n",
        "print(\"Accuracy: \",metrics.accuracy_score(y_test, y_predictionLogistic))\n",
        "print(\"\\nConfusion Matrix:\")\n",
        "print(metrics.confusion_matrix(y_test,y_predictionLogistic))\n",
        "print(\"\\nReport for Logistic: \")\n",
        "print(metrics.classification_report(y_test,y_predictionLogistic))"
      ],
      "execution_count": null,
      "outputs": [
        {
          "output_type": "stream",
          "name": "stdout",
          "text": [
            "Accuracy:  0.7983870967741935\n",
            "\n",
            "Confusion Matrix:\n",
            "[[84  7]\n",
            " [18 15]]\n",
            "\n",
            "Report for Logistic: \n",
            "              precision    recall  f1-score   support\n",
            "\n",
            "           0       0.82      0.92      0.87        91\n",
            "           1       0.68      0.45      0.55        33\n",
            "\n",
            "    accuracy                           0.80       124\n",
            "   macro avg       0.75      0.69      0.71       124\n",
            "weighted avg       0.79      0.80      0.78       124\n",
            "\n"
          ]
        }
      ]
    },
    {
      "cell_type": "markdown",
      "metadata": {
        "id": "eDaD5BaoURQ8"
      },
      "source": [
        "**Multi-layer Perceptron(MLP)**"
      ]
    },
    {
      "cell_type": "code",
      "metadata": {
        "colab": {
          "base_uri": "https://localhost:8080/"
        },
        "id": "8QAcOGGVUXby",
        "outputId": "2e138ab0-d659-428d-9f02-5d910a8b824e"
      },
      "source": [
        "from sklearn.neural_network import MLPClassifier\n",
        "MLPClassification=MLPClassifier(random_state=0)\n",
        "MLPClassification.fit(X_train,y_train)\n",
        "y_predictionMLP=MLPClassification.predict(X_test)\n",
        "\n",
        "print(\"Accuracy\",metrics.accuracy_score(y_test, y_predictionMLP))\n",
        "\n",
        "print(\"\\nConfusion Matrix:\")\n",
        "print(metrics.confusion_matrix(y_test,y_predictionMLP))\n",
        "\n",
        "print(\"\\nReport for MLP: \")\n",
        "print(metrics.classification_report(y_test,y_predictionMLP))"
      ],
      "execution_count": null,
      "outputs": [
        {
          "output_type": "stream",
          "name": "stdout",
          "text": [
            "Accuracy 0.782258064516129\n",
            "\n",
            "Confusion Matrix:\n",
            "[[81 10]\n",
            " [17 16]]\n",
            "\n",
            "Report for MLP: \n",
            "              precision    recall  f1-score   support\n",
            "\n",
            "           0       0.83      0.89      0.86        91\n",
            "           1       0.62      0.48      0.54        33\n",
            "\n",
            "    accuracy                           0.78       124\n",
            "   macro avg       0.72      0.69      0.70       124\n",
            "weighted avg       0.77      0.78      0.77       124\n",
            "\n"
          ]
        }
      ]
    },
    {
      "cell_type": "markdown",
      "metadata": {
        "id": "HyDjZciLU4Ap"
      },
      "source": [
        "**Random Forest**"
      ]
    },
    {
      "cell_type": "code",
      "metadata": {
        "colab": {
          "base_uri": "https://localhost:8080/"
        },
        "id": "yOkaTY3AU8Tz",
        "outputId": "e3c69fae-b15c-4a9e-e568-5c1ef6e3da5e"
      },
      "source": [
        "from sklearn.ensemble import RandomForestClassifier\n",
        "\n",
        "RndmForestClassification=RandomForestClassifier()\n",
        "RndmForestClassification.fit(X_train,y_train)\n",
        "y_predictionRndmForest=RndmForestClassification.predict(X_test)\n",
        "print(\"Accuracy: \")\n",
        "print(metrics.accuracy_score(y_test, y_predictionRndmForest))\n",
        "print(\"\\nConfusion Matrix\")\n",
        "print(metrics.confusion_matrix(y_test,y_predictionRndmForest))\n",
        "\n",
        "print(\"\\nReport for Random Forest: \")\n",
        "print(metrics.classification_report(y_test,y_predictionRndmForest))"
      ],
      "execution_count": null,
      "outputs": [
        {
          "output_type": "stream",
          "name": "stdout",
          "text": [
            "Accuracy: \n",
            "0.7661290322580645\n",
            "\n",
            "Confusion Matrix\n",
            "[[79 12]\n",
            " [17 16]]\n",
            "\n",
            "Report for Random Forest: \n",
            "              precision    recall  f1-score   support\n",
            "\n",
            "           0       0.82      0.87      0.84        91\n",
            "           1       0.57      0.48      0.52        33\n",
            "\n",
            "    accuracy                           0.77       124\n",
            "   macro avg       0.70      0.68      0.68       124\n",
            "weighted avg       0.76      0.77      0.76       124\n",
            "\n"
          ]
        }
      ]
    },
    {
      "cell_type": "markdown",
      "metadata": {
        "id": "WFOIBe4D5exz"
      },
      "source": [
        "**Support Vector Machine(SVM)**"
      ]
    },
    {
      "cell_type": "code",
      "metadata": {
        "colab": {
          "base_uri": "https://localhost:8080/"
        },
        "id": "c3Yr03Xu57-r",
        "outputId": "f5acb76b-7e31-4ab0-f481-06056f735ddf"
      },
      "source": [
        "from sklearn import svm\n",
        "\n",
        "svmClassification = svm.SVC(kernel='linear')\n",
        "svmClassification.fit(X_train, y_train)\n",
        "y_pred = svmClassification.predict(X_test)\n",
        "\n",
        "print(\"Accuracy:\",metrics.accuracy_score(y_test, y_pred))\n",
        "print(\"\\nConfusion Matrix\")\n",
        "print(metrics.confusion_matrix(y_test,y_pred))\n",
        "print(\"\\nReport for SVM: \")\n",
        "print(metrics.classification_report(y_test,y_pred))"
      ],
      "execution_count": null,
      "outputs": [
        {
          "output_type": "stream",
          "name": "stdout",
          "text": [
            "Accuracy: 0.7903225806451613\n",
            "\n",
            "Confusion Matrix\n",
            "[[84  7]\n",
            " [19 14]]\n",
            "\n",
            "Report for SVM: \n",
            "              precision    recall  f1-score   support\n",
            "\n",
            "           0       0.82      0.92      0.87        91\n",
            "           1       0.67      0.42      0.52        33\n",
            "\n",
            "    accuracy                           0.79       124\n",
            "   macro avg       0.74      0.67      0.69       124\n",
            "weighted avg       0.78      0.79      0.77       124\n",
            "\n"
          ]
        }
      ]
    },
    {
      "cell_type": "markdown",
      "metadata": {
        "id": "6_4SaIVX8rO0"
      },
      "source": [
        "**Multinomial Naive Bayes**"
      ]
    },
    {
      "cell_type": "code",
      "metadata": {
        "colab": {
          "base_uri": "https://localhost:8080/"
        },
        "id": "61vdYg758vaH",
        "outputId": "ca62578d-18b2-4f90-a841-097a80cdb9d6"
      },
      "source": [
        "from sklearn.naive_bayes import MultinomialNB\n",
        "\n",
        "mnbClassification = MultinomialNB()\n",
        "mnbClassification.fit(X_train, y_train)\n",
        "y_pred = mnbClassification.predict(X_test)\n",
        "\n",
        "print(\"Accuracy:\",metrics.accuracy_score(y_test, y_pred))\n",
        "print(\"\\nConfusion Matrix\")\n",
        "print(metrics.confusion_matrix(y_test,y_pred))\n",
        "print(\"\\nReport for Multinomial Naive Bayes: \")\n",
        "print(metrics.classification_report(y_test,y_pred))"
      ],
      "execution_count": null,
      "outputs": [
        {
          "output_type": "stream",
          "name": "stdout",
          "text": [
            "Accuracy: 0.8225806451612904\n",
            "\n",
            "Confusion Matrix\n",
            "[[82  9]\n",
            " [13 20]]\n",
            "\n",
            "Report for Multinomial Naive Bayes: \n",
            "              precision    recall  f1-score   support\n",
            "\n",
            "           0       0.86      0.90      0.88        91\n",
            "           1       0.69      0.61      0.65        33\n",
            "\n",
            "    accuracy                           0.82       124\n",
            "   macro avg       0.78      0.75      0.76       124\n",
            "weighted avg       0.82      0.82      0.82       124\n",
            "\n"
          ]
        }
      ]
    },
    {
      "cell_type": "markdown",
      "metadata": {
        "id": "OGJ7IYOP-S46"
      },
      "source": [
        "**Gaussian Naive Bayes**"
      ]
    },
    {
      "cell_type": "code",
      "metadata": {
        "colab": {
          "base_uri": "https://localhost:8080/"
        },
        "id": "V6m6Q8gc-UHN",
        "outputId": "1f7dfefd-c096-43bb-f6bf-4934bf8b1b8f"
      },
      "source": [
        "from sklearn.naive_bayes import GaussianNB\n",
        "\n",
        "gaussianClassification = GaussianNB()\n",
        "gaussianClassification.fit(X_train, y_train)\n",
        "y_pred = gaussianClassification.predict(X_test)\n",
        "\n",
        "print(\"Accuracy:\",metrics.accuracy_score(y_test, y_pred))\n",
        "print(\"\\nConfusion Matrix\")\n",
        "print(metrics.confusion_matrix(y_test,y_pred))\n",
        "print(\"\\nReport for Gaussian Naive Bayes: \")\n",
        "print(metrics.classification_report(y_test,y_pred))"
      ],
      "execution_count": null,
      "outputs": [
        {
          "output_type": "stream",
          "name": "stdout",
          "text": [
            "Accuracy: 0.7983870967741935\n",
            "\n",
            "Confusion Matrix\n",
            "[[76 15]\n",
            " [10 23]]\n",
            "\n",
            "Report for Gaussian Naive Bayes: \n",
            "              precision    recall  f1-score   support\n",
            "\n",
            "           0       0.88      0.84      0.86        91\n",
            "           1       0.61      0.70      0.65        33\n",
            "\n",
            "    accuracy                           0.80       124\n",
            "   macro avg       0.74      0.77      0.75       124\n",
            "weighted avg       0.81      0.80      0.80       124\n",
            "\n"
          ]
        }
      ]
    },
    {
      "cell_type": "markdown",
      "metadata": {
        "id": "NCQsljhu-4LP"
      },
      "source": [
        "**Gradient Boosting**"
      ]
    },
    {
      "cell_type": "code",
      "metadata": {
        "colab": {
          "base_uri": "https://localhost:8080/"
        },
        "id": "-ajhvCFw-5bz",
        "outputId": "0ea1e04b-81cf-499a-de8e-dd39268f1754"
      },
      "source": [
        "from sklearn.ensemble import GradientBoostingClassifier\n",
        "\n",
        "gradientClassification = GradientBoostingClassifier(random_state=0,n_estimators=50)\n",
        "gradientClassification.fit(X_train, y_train)\n",
        "y_pred = gradientClassification.predict(X_test)\n",
        "\n",
        "print(\"Accuracy:\",metrics.accuracy_score(y_test, y_pred))\n",
        "print(\"\\nConfusion Matrix\")\n",
        "print(metrics.confusion_matrix(y_test,y_pred))\n",
        "print(\"\\nReport for Gradient Boosting: \")\n",
        "print(metrics.classification_report(y_test,y_pred))"
      ],
      "execution_count": null,
      "outputs": [
        {
          "output_type": "stream",
          "name": "stdout",
          "text": [
            "Accuracy: 0.7903225806451613\n",
            "\n",
            "Confusion Matrix\n",
            "[[83  8]\n",
            " [18 15]]\n",
            "\n",
            "Report for Gradient Boosting: \n",
            "              precision    recall  f1-score   support\n",
            "\n",
            "           0       0.82      0.91      0.86        91\n",
            "           1       0.65      0.45      0.54        33\n",
            "\n",
            "    accuracy                           0.79       124\n",
            "   macro avg       0.74      0.68      0.70       124\n",
            "weighted avg       0.78      0.79      0.78       124\n",
            "\n"
          ]
        }
      ]
    },
    {
      "cell_type": "markdown",
      "metadata": {
        "id": "DFzXJu0RApv3"
      },
      "source": [
        "**AdaBoost**"
      ]
    },
    {
      "cell_type": "code",
      "metadata": {
        "colab": {
          "base_uri": "https://localhost:8080/"
        },
        "id": "heWGluxKAuXe",
        "outputId": "5193b281-a620-4991-b9a4-25b90407d0a4"
      },
      "source": [
        "from sklearn.ensemble import AdaBoostClassifier\n",
        "\n",
        "adaBoostClassification = AdaBoostClassifier(random_state=0,n_estimators=100)\n",
        "adaBoostClassification.fit(X_train, y_train)\n",
        "y_pred = adaBoostClassification.predict(X_test)\n",
        "\n",
        "print(\"Accuracy:\",metrics.accuracy_score(y_test, y_pred))\n",
        "print(\"\\nConfusion Matrix\")\n",
        "print(metrics.confusion_matrix(y_test,y_pred))\n",
        "print(\"\\nReport for AdaBoost: \")\n",
        "print(metrics.classification_report(y_test,y_pred))"
      ],
      "execution_count": null,
      "outputs": [
        {
          "output_type": "stream",
          "name": "stdout",
          "text": [
            "Accuracy: 0.7580645161290323\n",
            "\n",
            "Confusion Matrix\n",
            "[[80 11]\n",
            " [19 14]]\n",
            "\n",
            "Report for AdaBoost: \n",
            "              precision    recall  f1-score   support\n",
            "\n",
            "           0       0.81      0.88      0.84        91\n",
            "           1       0.56      0.42      0.48        33\n",
            "\n",
            "    accuracy                           0.76       124\n",
            "   macro avg       0.68      0.65      0.66       124\n",
            "weighted avg       0.74      0.76      0.75       124\n",
            "\n"
          ]
        }
      ]
    },
    {
      "cell_type": "markdown",
      "metadata": {
        "id": "O-A07kPNByc4"
      },
      "source": [
        "**Decision Tree**"
      ]
    },
    {
      "cell_type": "code",
      "metadata": {
        "colab": {
          "base_uri": "https://localhost:8080/"
        },
        "id": "ZN7mBnEHB_eB",
        "outputId": "2fbcfc7a-1b38-4518-e81a-4debae57aa7c"
      },
      "source": [
        "from sklearn.tree import DecisionTreeClassifier\n",
        "\n",
        "decisionTreeClassification = DecisionTreeClassifier(random_state=10)\n",
        "decisionTreeClassification.fit(X_train, y_train)\n",
        "y_pred = decisionTreeClassification.predict(X_test)\n",
        "\n",
        "print(\"Accuracy:\",metrics.accuracy_score(y_test, y_pred))\n",
        "print(\"\\nConfusion Matrix\")\n",
        "print(metrics.confusion_matrix(y_test,y_pred))\n",
        "print(\"\\nReport for Decision Tree: \")\n",
        "print(metrics.classification_report(y_test,y_pred))"
      ],
      "execution_count": null,
      "outputs": [
        {
          "output_type": "stream",
          "name": "stdout",
          "text": [
            "Accuracy: 0.7741935483870968\n",
            "\n",
            "Confusion Matrix\n",
            "[[77 14]\n",
            " [14 19]]\n",
            "\n",
            "Report for Decision Tree: \n",
            "              precision    recall  f1-score   support\n",
            "\n",
            "           0       0.85      0.85      0.85        91\n",
            "           1       0.58      0.58      0.58        33\n",
            "\n",
            "    accuracy                           0.77       124\n",
            "   macro avg       0.71      0.71      0.71       124\n",
            "weighted avg       0.77      0.77      0.77       124\n",
            "\n"
          ]
        }
      ]
    },
    {
      "cell_type": "markdown",
      "metadata": {
        "id": "zJXLfRL2DCGX"
      },
      "source": [
        "**k-Nearest Neighbours(KNN)**"
      ]
    },
    {
      "cell_type": "code",
      "metadata": {
        "colab": {
          "base_uri": "https://localhost:8080/"
        },
        "id": "da0PM3v2DORe",
        "outputId": "53eb8a41-7dfb-4b84-96d8-becde42ae8d4"
      },
      "source": [
        "from sklearn.neighbors import KNeighborsClassifier\n",
        "\n",
        "knnClassification = KNeighborsClassifier()\n",
        "knnClassification.fit(X_train, y_train)\n",
        "y_pred = knnClassification.predict(X_test)\n",
        "\n",
        "print(\"Accuracy:\",metrics.accuracy_score(y_test, y_pred))\n",
        "print(\"\\nConfusion Matrix\")\n",
        "print(metrics.confusion_matrix(y_test,y_pred))\n",
        "print(\"\\nReport for KNN: \")\n",
        "print(metrics.classification_report(y_test,y_pred))"
      ],
      "execution_count": null,
      "outputs": [
        {
          "output_type": "stream",
          "name": "stdout",
          "text": [
            "Accuracy: 0.7580645161290323\n",
            "\n",
            "Confusion Matrix\n",
            "[[84  7]\n",
            " [23 10]]\n",
            "\n",
            "Report for KNN: \n",
            "              precision    recall  f1-score   support\n",
            "\n",
            "           0       0.79      0.92      0.85        91\n",
            "           1       0.59      0.30      0.40        33\n",
            "\n",
            "    accuracy                           0.76       124\n",
            "   macro avg       0.69      0.61      0.62       124\n",
            "weighted avg       0.73      0.76      0.73       124\n",
            "\n"
          ]
        }
      ]
    },
    {
      "cell_type": "markdown",
      "metadata": {
        "id": "X-jkObLAEYVr"
      },
      "source": [
        "**Quadratic Discriminant Analysis(QDA)**"
      ]
    },
    {
      "cell_type": "code",
      "metadata": {
        "colab": {
          "base_uri": "https://localhost:8080/"
        },
        "id": "7fmGC1ifEuqL",
        "outputId": "d5465cbf-43c8-4d3b-934b-18cf30788065"
      },
      "source": [
        "from sklearn.discriminant_analysis import QuadraticDiscriminantAnalysis\n",
        "\n",
        "qdaClassification = QuadraticDiscriminantAnalysis()\n",
        "qdaClassification.fit(X_train, y_train)\n",
        "y_pred = qdaClassification.predict(X_test)\n",
        "\n",
        "print(\"Accuracy:\",metrics.accuracy_score(y_test, y_pred))\n",
        "print(\"\\nConfusion Matrix\")\n",
        "print(metrics.confusion_matrix(y_test,y_pred))\n",
        "print(\"\\nReport for QDA: \")\n",
        "print(metrics.classification_report(y_test,y_pred))"
      ],
      "execution_count": null,
      "outputs": [
        {
          "output_type": "stream",
          "name": "stdout",
          "text": [
            "Accuracy: 0.7580645161290323\n",
            "\n",
            "Confusion Matrix\n",
            "[[70 21]\n",
            " [ 9 24]]\n",
            "\n",
            "Report for QDA: \n",
            "              precision    recall  f1-score   support\n",
            "\n",
            "           0       0.89      0.77      0.82        91\n",
            "           1       0.53      0.73      0.62        33\n",
            "\n",
            "    accuracy                           0.76       124\n",
            "   macro avg       0.71      0.75      0.72       124\n",
            "weighted avg       0.79      0.76      0.77       124\n",
            "\n"
          ]
        }
      ]
    },
    {
      "cell_type": "markdown",
      "metadata": {
        "id": "8EtlRni1Fc_z"
      },
      "source": [
        "**Extra Tree**"
      ]
    },
    {
      "cell_type": "code",
      "metadata": {
        "colab": {
          "base_uri": "https://localhost:8080/"
        },
        "id": "7fKiAjmZFe3u",
        "outputId": "c99e3a2c-f1dd-46af-b68d-f8596ba4d422"
      },
      "source": [
        "from sklearn.ensemble import ExtraTreesClassifier\n",
        "\n",
        "extraTreeClassification = ExtraTreesClassifier(random_state=0,n_estimators=100)\n",
        "extraTreeClassification.fit(X_train, y_train)\n",
        "y_pred = extraTreeClassification.predict(X_test)\n",
        "\n",
        "print(\"Accuracy:\",metrics.accuracy_score(y_test, y_pred))\n",
        "print(\"\\nConfusion Matrix\")\n",
        "print(metrics.confusion_matrix(y_test,y_pred))\n",
        "print(\"\\nReport for Extra Tree: \")\n",
        "print(metrics.classification_report(y_test,y_pred))"
      ],
      "execution_count": null,
      "outputs": [
        {
          "output_type": "stream",
          "name": "stdout",
          "text": [
            "Accuracy: 0.7741935483870968\n",
            "\n",
            "Confusion Matrix\n",
            "[[77 14]\n",
            " [14 19]]\n",
            "\n",
            "Report for Extra Tree: \n",
            "              precision    recall  f1-score   support\n",
            "\n",
            "           0       0.85      0.85      0.85        91\n",
            "           1       0.58      0.58      0.58        33\n",
            "\n",
            "    accuracy                           0.77       124\n",
            "   macro avg       0.71      0.71      0.71       124\n",
            "weighted avg       0.77      0.77      0.77       124\n",
            "\n"
          ]
        }
      ]
    },
    {
      "cell_type": "markdown",
      "metadata": {
        "id": "6yVmqHU2GNFN"
      },
      "source": [
        "**Bagging**"
      ]
    },
    {
      "cell_type": "code",
      "metadata": {
        "colab": {
          "base_uri": "https://localhost:8080/"
        },
        "id": "tXnVL6QqGOjd",
        "outputId": "44355139-4553-4533-91e2-69ab989fab26"
      },
      "source": [
        "from sklearn.ensemble import BaggingClassifier\n",
        "from sklearn.pipeline import make_pipeline\n",
        "from sklearn.preprocessing import StandardScaler\n",
        "pipeline = make_pipeline(StandardScaler(),LogisticRegression(random_state=123))\n",
        "baggingClassification = BaggingClassifier(base_estimator=pipeline)\n",
        "baggingClassification.fit(X_train, y_train)\n",
        "y_pred = baggingClassification.predict(X_test)\n",
        "\n",
        "print(\"Accuracy:\",metrics.accuracy_score(y_test, y_pred))\n",
        "print(\"\\nConfusion Matrix\")\n",
        "print(metrics.confusion_matrix(y_test,y_pred))\n",
        "print(\"\\nReport for Bagging: \")\n",
        "print(metrics.classification_report(y_test,y_pred))"
      ],
      "execution_count": null,
      "outputs": [
        {
          "output_type": "stream",
          "name": "stdout",
          "text": [
            "Accuracy: 0.782258064516129\n",
            "\n",
            "Confusion Matrix\n",
            "[[80 11]\n",
            " [16 17]]\n",
            "\n",
            "Report for Bagging: \n",
            "              precision    recall  f1-score   support\n",
            "\n",
            "           0       0.83      0.88      0.86        91\n",
            "           1       0.61      0.52      0.56        33\n",
            "\n",
            "    accuracy                           0.78       124\n",
            "   macro avg       0.72      0.70      0.71       124\n",
            "weighted avg       0.77      0.78      0.78       124\n",
            "\n"
          ]
        }
      ]
    },
    {
      "cell_type": "markdown",
      "metadata": {
        "id": "ql5wZS2SHtfS"
      },
      "source": [
        "**Stacking**"
      ]
    },
    {
      "cell_type": "code",
      "metadata": {
        "colab": {
          "base_uri": "https://localhost:8080/"
        },
        "id": "jHk_pfOzISUt",
        "outputId": "29453fb1-e65d-4a82-dab3-ee3e8eb9dcb7"
      },
      "source": [
        "from sklearn.ensemble import StackingClassifier\n",
        "from sklearn.svm import LinearSVC\n",
        "\n",
        "estimators = [('rf', RandomForestClassifier(n_estimators=10, random_state=42)),('svr', make_pipeline(StandardScaler(),LinearSVC(random_state=42)))]\n",
        "stackingClassification = StackingClassifier(estimators)\n",
        "stackingClassification.fit(X_train, y_train)\n",
        "y_pred = stackingClassification.predict(X_test)\n",
        "\n",
        "print(\"Accuracy:\",metrics.accuracy_score(y_test, y_pred))\n",
        "print(\"\\nConfusion Matrix\")\n",
        "print(metrics.confusion_matrix(y_test,y_pred))\n",
        "print(\"\\nReport for Stacking: \")\n",
        "print(metrics.classification_report(y_test,y_pred))"
      ],
      "execution_count": null,
      "outputs": [
        {
          "output_type": "stream",
          "name": "stdout",
          "text": [
            "Accuracy: 0.782258064516129\n",
            "\n",
            "Confusion Matrix\n",
            "[[84  7]\n",
            " [20 13]]\n",
            "\n",
            "Report for Stacking: \n",
            "              precision    recall  f1-score   support\n",
            "\n",
            "           0       0.81      0.92      0.86        91\n",
            "           1       0.65      0.39      0.49        33\n",
            "\n",
            "    accuracy                           0.78       124\n",
            "   macro avg       0.73      0.66      0.68       124\n",
            "weighted avg       0.77      0.78      0.76       124\n",
            "\n"
          ]
        }
      ]
    },
    {
      "cell_type": "code",
      "metadata": {
        "colab": {
          "base_uri": "https://localhost:8080/",
          "height": 305
        },
        "id": "t47gBff2koQK",
        "outputId": "d296e33e-8fec-4a3e-bd81-614ce09bf463"
      },
      "source": [
        "depressionDataset.head()"
      ],
      "execution_count": null,
      "outputs": [
        {
          "output_type": "execute_result",
          "data": {
            "text/html": [
              "\n",
              "  <div id=\"df-b930aab7-d52f-4af6-9c33-cdd798f015eb\">\n",
              "    <div class=\"colab-df-container\">\n",
              "      <div>\n",
              "<style scoped>\n",
              "    .dataframe tbody tr th:only-of-type {\n",
              "        vertical-align: middle;\n",
              "    }\n",
              "\n",
              "    .dataframe tbody tr th {\n",
              "        vertical-align: top;\n",
              "    }\n",
              "\n",
              "    .dataframe thead th {\n",
              "        text-align: right;\n",
              "    }\n",
              "</style>\n",
              "<table border=\"1\" class=\"dataframe\">\n",
              "  <thead>\n",
              "    <tr style=\"text-align: right;\">\n",
              "      <th></th>\n",
              "      <th>AGE</th>\n",
              "      <th>GENDER</th>\n",
              "      <th>PMPCOVID-19</th>\n",
              "      <th>FFP</th>\n",
              "      <th>FPPS</th>\n",
              "      <th>UPSET</th>\n",
              "      <th>HISSUE</th>\n",
              "      <th>ALCDRUINV</th>\n",
              "      <th>ANGER</th>\n",
              "      <th>SL6-8</th>\n",
              "      <th>SUICIDAL</th>\n",
              "      <th>TISM</th>\n",
              "      <th>TWF</th>\n",
              "      <th>WORRIEDF</th>\n",
              "      <th>HARASS</th>\n",
              "      <th>LOIW</th>\n",
              "      <th>INDES</th>\n",
              "      <th>RIDICULED</th>\n",
              "      <th>NIGHTSCREENTIME</th>\n",
              "      <th>WORRIEDP</th>\n",
              "      <th>ATHENS INSOMNIA SCORE</th>\n",
              "      <th>INSOMNIAC</th>\n",
              "      <th>PHQ-9 SCORE</th>\n",
              "      <th>DEPRESSED</th>\n",
              "    </tr>\n",
              "  </thead>\n",
              "  <tbody>\n",
              "    <tr>\n",
              "      <th>0</th>\n",
              "      <td>2</td>\n",
              "      <td>1</td>\n",
              "      <td>0</td>\n",
              "      <td>1</td>\n",
              "      <td>0</td>\n",
              "      <td>0</td>\n",
              "      <td>0</td>\n",
              "      <td>0</td>\n",
              "      <td>0</td>\n",
              "      <td>1</td>\n",
              "      <td>0</td>\n",
              "      <td>2</td>\n",
              "      <td>1</td>\n",
              "      <td>0</td>\n",
              "      <td>0</td>\n",
              "      <td>0</td>\n",
              "      <td>0</td>\n",
              "      <td>0</td>\n",
              "      <td>1</td>\n",
              "      <td>1</td>\n",
              "      <td>6</td>\n",
              "      <td>1</td>\n",
              "      <td>2</td>\n",
              "      <td>0</td>\n",
              "    </tr>\n",
              "    <tr>\n",
              "      <th>1</th>\n",
              "      <td>3</td>\n",
              "      <td>1</td>\n",
              "      <td>0</td>\n",
              "      <td>1</td>\n",
              "      <td>0</td>\n",
              "      <td>0</td>\n",
              "      <td>0</td>\n",
              "      <td>0</td>\n",
              "      <td>0</td>\n",
              "      <td>1</td>\n",
              "      <td>0</td>\n",
              "      <td>2</td>\n",
              "      <td>1</td>\n",
              "      <td>0</td>\n",
              "      <td>0</td>\n",
              "      <td>0</td>\n",
              "      <td>1</td>\n",
              "      <td>0</td>\n",
              "      <td>0</td>\n",
              "      <td>0</td>\n",
              "      <td>7</td>\n",
              "      <td>1</td>\n",
              "      <td>4</td>\n",
              "      <td>0</td>\n",
              "    </tr>\n",
              "    <tr>\n",
              "      <th>2</th>\n",
              "      <td>2</td>\n",
              "      <td>0</td>\n",
              "      <td>0</td>\n",
              "      <td>0</td>\n",
              "      <td>0</td>\n",
              "      <td>1</td>\n",
              "      <td>0</td>\n",
              "      <td>0</td>\n",
              "      <td>1</td>\n",
              "      <td>1</td>\n",
              "      <td>0</td>\n",
              "      <td>2</td>\n",
              "      <td>0</td>\n",
              "      <td>1</td>\n",
              "      <td>0</td>\n",
              "      <td>1</td>\n",
              "      <td>1</td>\n",
              "      <td>0</td>\n",
              "      <td>2</td>\n",
              "      <td>1</td>\n",
              "      <td>9</td>\n",
              "      <td>1</td>\n",
              "      <td>9</td>\n",
              "      <td>1</td>\n",
              "    </tr>\n",
              "    <tr>\n",
              "      <th>3</th>\n",
              "      <td>2</td>\n",
              "      <td>0</td>\n",
              "      <td>0</td>\n",
              "      <td>0</td>\n",
              "      <td>0</td>\n",
              "      <td>0</td>\n",
              "      <td>0</td>\n",
              "      <td>0</td>\n",
              "      <td>0</td>\n",
              "      <td>0</td>\n",
              "      <td>0</td>\n",
              "      <td>2</td>\n",
              "      <td>2</td>\n",
              "      <td>0</td>\n",
              "      <td>0</td>\n",
              "      <td>0</td>\n",
              "      <td>0</td>\n",
              "      <td>0</td>\n",
              "      <td>2</td>\n",
              "      <td>0</td>\n",
              "      <td>0</td>\n",
              "      <td>0</td>\n",
              "      <td>0</td>\n",
              "      <td>0</td>\n",
              "    </tr>\n",
              "    <tr>\n",
              "      <th>4</th>\n",
              "      <td>2</td>\n",
              "      <td>1</td>\n",
              "      <td>0</td>\n",
              "      <td>1</td>\n",
              "      <td>0</td>\n",
              "      <td>0</td>\n",
              "      <td>1</td>\n",
              "      <td>1</td>\n",
              "      <td>0</td>\n",
              "      <td>0</td>\n",
              "      <td>0</td>\n",
              "      <td>2</td>\n",
              "      <td>1</td>\n",
              "      <td>0</td>\n",
              "      <td>0</td>\n",
              "      <td>1</td>\n",
              "      <td>1</td>\n",
              "      <td>0</td>\n",
              "      <td>2</td>\n",
              "      <td>1</td>\n",
              "      <td>15</td>\n",
              "      <td>1</td>\n",
              "      <td>5</td>\n",
              "      <td>1</td>\n",
              "    </tr>\n",
              "  </tbody>\n",
              "</table>\n",
              "</div>\n",
              "      <button class=\"colab-df-convert\" onclick=\"convertToInteractive('df-b930aab7-d52f-4af6-9c33-cdd798f015eb')\"\n",
              "              title=\"Convert this dataframe to an interactive table.\"\n",
              "              style=\"display:none;\">\n",
              "        \n",
              "  <svg xmlns=\"http://www.w3.org/2000/svg\" height=\"24px\"viewBox=\"0 0 24 24\"\n",
              "       width=\"24px\">\n",
              "    <path d=\"M0 0h24v24H0V0z\" fill=\"none\"/>\n",
              "    <path d=\"M18.56 5.44l.94 2.06.94-2.06 2.06-.94-2.06-.94-.94-2.06-.94 2.06-2.06.94zm-11 1L8.5 8.5l.94-2.06 2.06-.94-2.06-.94L8.5 2.5l-.94 2.06-2.06.94zm10 10l.94 2.06.94-2.06 2.06-.94-2.06-.94-.94-2.06-.94 2.06-2.06.94z\"/><path d=\"M17.41 7.96l-1.37-1.37c-.4-.4-.92-.59-1.43-.59-.52 0-1.04.2-1.43.59L10.3 9.45l-7.72 7.72c-.78.78-.78 2.05 0 2.83L4 21.41c.39.39.9.59 1.41.59.51 0 1.02-.2 1.41-.59l7.78-7.78 2.81-2.81c.8-.78.8-2.07 0-2.86zM5.41 20L4 18.59l7.72-7.72 1.47 1.35L5.41 20z\"/>\n",
              "  </svg>\n",
              "      </button>\n",
              "      \n",
              "  <style>\n",
              "    .colab-df-container {\n",
              "      display:flex;\n",
              "      flex-wrap:wrap;\n",
              "      gap: 12px;\n",
              "    }\n",
              "\n",
              "    .colab-df-convert {\n",
              "      background-color: #E8F0FE;\n",
              "      border: none;\n",
              "      border-radius: 50%;\n",
              "      cursor: pointer;\n",
              "      display: none;\n",
              "      fill: #1967D2;\n",
              "      height: 32px;\n",
              "      padding: 0 0 0 0;\n",
              "      width: 32px;\n",
              "    }\n",
              "\n",
              "    .colab-df-convert:hover {\n",
              "      background-color: #E2EBFA;\n",
              "      box-shadow: 0px 1px 2px rgba(60, 64, 67, 0.3), 0px 1px 3px 1px rgba(60, 64, 67, 0.15);\n",
              "      fill: #174EA6;\n",
              "    }\n",
              "\n",
              "    [theme=dark] .colab-df-convert {\n",
              "      background-color: #3B4455;\n",
              "      fill: #D2E3FC;\n",
              "    }\n",
              "\n",
              "    [theme=dark] .colab-df-convert:hover {\n",
              "      background-color: #434B5C;\n",
              "      box-shadow: 0px 1px 3px 1px rgba(0, 0, 0, 0.15);\n",
              "      filter: drop-shadow(0px 1px 2px rgba(0, 0, 0, 0.3));\n",
              "      fill: #FFFFFF;\n",
              "    }\n",
              "  </style>\n",
              "\n",
              "      <script>\n",
              "        const buttonEl =\n",
              "          document.querySelector('#df-b930aab7-d52f-4af6-9c33-cdd798f015eb button.colab-df-convert');\n",
              "        buttonEl.style.display =\n",
              "          google.colab.kernel.accessAllowed ? 'block' : 'none';\n",
              "\n",
              "        async function convertToInteractive(key) {\n",
              "          const element = document.querySelector('#df-b930aab7-d52f-4af6-9c33-cdd798f015eb');\n",
              "          const dataTable =\n",
              "            await google.colab.kernel.invokeFunction('convertToInteractive',\n",
              "                                                     [key], {});\n",
              "          if (!dataTable) return;\n",
              "\n",
              "          const docLinkHtml = 'Like what you see? Visit the ' +\n",
              "            '<a target=\"_blank\" href=https://colab.research.google.com/notebooks/data_table.ipynb>data table notebook</a>'\n",
              "            + ' to learn more about interactive tables.';\n",
              "          element.innerHTML = '';\n",
              "          dataTable['output_type'] = 'display_data';\n",
              "          await google.colab.output.renderOutput(dataTable, element);\n",
              "          const docLink = document.createElement('div');\n",
              "          docLink.innerHTML = docLinkHtml;\n",
              "          element.appendChild(docLink);\n",
              "        }\n",
              "      </script>\n",
              "    </div>\n",
              "  </div>\n",
              "  "
            ],
            "text/plain": [
              "   AGE  GENDER  PMPCOVID-19  ...  INSOMNIAC  PHQ-9 SCORE  DEPRESSED\n",
              "0    2       1            0  ...          1            2          0\n",
              "1    3       1            0  ...          1            4          0\n",
              "2    2       0            0  ...          1            9          1\n",
              "3    2       0            0  ...          0            0          0\n",
              "4    2       1            0  ...          1            5          1\n",
              "\n",
              "[5 rows x 24 columns]"
            ]
          },
          "metadata": {},
          "execution_count": 28
        }
      ]
    },
    {
      "cell_type": "markdown",
      "metadata": {
        "id": "bPDknJnMkWeZ"
      },
      "source": [
        "##**Insomnic**"
      ]
    },
    {
      "cell_type": "code",
      "metadata": {
        "colab": {
          "base_uri": "https://localhost:8080/",
          "height": 305
        },
        "id": "VRi0XzTNIgDC",
        "outputId": "99ecef98-2084-476b-b4fc-a409f7a7f605"
      },
      "source": [
        "insomniaData = depressionDataset\n",
        "insomniaData.head()"
      ],
      "execution_count": null,
      "outputs": [
        {
          "output_type": "execute_result",
          "data": {
            "text/html": [
              "\n",
              "  <div id=\"df-4cdab719-f529-4653-b4c3-0cce39e53ba8\">\n",
              "    <div class=\"colab-df-container\">\n",
              "      <div>\n",
              "<style scoped>\n",
              "    .dataframe tbody tr th:only-of-type {\n",
              "        vertical-align: middle;\n",
              "    }\n",
              "\n",
              "    .dataframe tbody tr th {\n",
              "        vertical-align: top;\n",
              "    }\n",
              "\n",
              "    .dataframe thead th {\n",
              "        text-align: right;\n",
              "    }\n",
              "</style>\n",
              "<table border=\"1\" class=\"dataframe\">\n",
              "  <thead>\n",
              "    <tr style=\"text-align: right;\">\n",
              "      <th></th>\n",
              "      <th>AGE</th>\n",
              "      <th>GENDER</th>\n",
              "      <th>PMPCOVID-19</th>\n",
              "      <th>FFP</th>\n",
              "      <th>FPPS</th>\n",
              "      <th>UPSET</th>\n",
              "      <th>HISSUE</th>\n",
              "      <th>ALCDRUINV</th>\n",
              "      <th>ANGER</th>\n",
              "      <th>SL6-8</th>\n",
              "      <th>SUICIDAL</th>\n",
              "      <th>TISM</th>\n",
              "      <th>TWF</th>\n",
              "      <th>WORRIEDF</th>\n",
              "      <th>HARASS</th>\n",
              "      <th>LOIW</th>\n",
              "      <th>INDES</th>\n",
              "      <th>RIDICULED</th>\n",
              "      <th>NIGHTSCREENTIME</th>\n",
              "      <th>WORRIEDP</th>\n",
              "      <th>ATHENS INSOMNIA SCORE</th>\n",
              "      <th>INSOMNIAC</th>\n",
              "      <th>PHQ-9 SCORE</th>\n",
              "      <th>DEPRESSED</th>\n",
              "    </tr>\n",
              "  </thead>\n",
              "  <tbody>\n",
              "    <tr>\n",
              "      <th>0</th>\n",
              "      <td>2</td>\n",
              "      <td>1</td>\n",
              "      <td>0</td>\n",
              "      <td>1</td>\n",
              "      <td>0</td>\n",
              "      <td>0</td>\n",
              "      <td>0</td>\n",
              "      <td>0</td>\n",
              "      <td>0</td>\n",
              "      <td>1</td>\n",
              "      <td>0</td>\n",
              "      <td>2</td>\n",
              "      <td>1</td>\n",
              "      <td>0</td>\n",
              "      <td>0</td>\n",
              "      <td>0</td>\n",
              "      <td>0</td>\n",
              "      <td>0</td>\n",
              "      <td>1</td>\n",
              "      <td>1</td>\n",
              "      <td>6</td>\n",
              "      <td>1</td>\n",
              "      <td>2</td>\n",
              "      <td>0</td>\n",
              "    </tr>\n",
              "    <tr>\n",
              "      <th>1</th>\n",
              "      <td>3</td>\n",
              "      <td>1</td>\n",
              "      <td>0</td>\n",
              "      <td>1</td>\n",
              "      <td>0</td>\n",
              "      <td>0</td>\n",
              "      <td>0</td>\n",
              "      <td>0</td>\n",
              "      <td>0</td>\n",
              "      <td>1</td>\n",
              "      <td>0</td>\n",
              "      <td>2</td>\n",
              "      <td>1</td>\n",
              "      <td>0</td>\n",
              "      <td>0</td>\n",
              "      <td>0</td>\n",
              "      <td>1</td>\n",
              "      <td>0</td>\n",
              "      <td>0</td>\n",
              "      <td>0</td>\n",
              "      <td>7</td>\n",
              "      <td>1</td>\n",
              "      <td>4</td>\n",
              "      <td>0</td>\n",
              "    </tr>\n",
              "    <tr>\n",
              "      <th>2</th>\n",
              "      <td>2</td>\n",
              "      <td>0</td>\n",
              "      <td>0</td>\n",
              "      <td>0</td>\n",
              "      <td>0</td>\n",
              "      <td>1</td>\n",
              "      <td>0</td>\n",
              "      <td>0</td>\n",
              "      <td>1</td>\n",
              "      <td>1</td>\n",
              "      <td>0</td>\n",
              "      <td>2</td>\n",
              "      <td>0</td>\n",
              "      <td>1</td>\n",
              "      <td>0</td>\n",
              "      <td>1</td>\n",
              "      <td>1</td>\n",
              "      <td>0</td>\n",
              "      <td>2</td>\n",
              "      <td>1</td>\n",
              "      <td>9</td>\n",
              "      <td>1</td>\n",
              "      <td>9</td>\n",
              "      <td>1</td>\n",
              "    </tr>\n",
              "    <tr>\n",
              "      <th>3</th>\n",
              "      <td>2</td>\n",
              "      <td>0</td>\n",
              "      <td>0</td>\n",
              "      <td>0</td>\n",
              "      <td>0</td>\n",
              "      <td>0</td>\n",
              "      <td>0</td>\n",
              "      <td>0</td>\n",
              "      <td>0</td>\n",
              "      <td>0</td>\n",
              "      <td>0</td>\n",
              "      <td>2</td>\n",
              "      <td>2</td>\n",
              "      <td>0</td>\n",
              "      <td>0</td>\n",
              "      <td>0</td>\n",
              "      <td>0</td>\n",
              "      <td>0</td>\n",
              "      <td>2</td>\n",
              "      <td>0</td>\n",
              "      <td>0</td>\n",
              "      <td>0</td>\n",
              "      <td>0</td>\n",
              "      <td>0</td>\n",
              "    </tr>\n",
              "    <tr>\n",
              "      <th>4</th>\n",
              "      <td>2</td>\n",
              "      <td>1</td>\n",
              "      <td>0</td>\n",
              "      <td>1</td>\n",
              "      <td>0</td>\n",
              "      <td>0</td>\n",
              "      <td>1</td>\n",
              "      <td>1</td>\n",
              "      <td>0</td>\n",
              "      <td>0</td>\n",
              "      <td>0</td>\n",
              "      <td>2</td>\n",
              "      <td>1</td>\n",
              "      <td>0</td>\n",
              "      <td>0</td>\n",
              "      <td>1</td>\n",
              "      <td>1</td>\n",
              "      <td>0</td>\n",
              "      <td>2</td>\n",
              "      <td>1</td>\n",
              "      <td>15</td>\n",
              "      <td>1</td>\n",
              "      <td>5</td>\n",
              "      <td>1</td>\n",
              "    </tr>\n",
              "  </tbody>\n",
              "</table>\n",
              "</div>\n",
              "      <button class=\"colab-df-convert\" onclick=\"convertToInteractive('df-4cdab719-f529-4653-b4c3-0cce39e53ba8')\"\n",
              "              title=\"Convert this dataframe to an interactive table.\"\n",
              "              style=\"display:none;\">\n",
              "        \n",
              "  <svg xmlns=\"http://www.w3.org/2000/svg\" height=\"24px\"viewBox=\"0 0 24 24\"\n",
              "       width=\"24px\">\n",
              "    <path d=\"M0 0h24v24H0V0z\" fill=\"none\"/>\n",
              "    <path d=\"M18.56 5.44l.94 2.06.94-2.06 2.06-.94-2.06-.94-.94-2.06-.94 2.06-2.06.94zm-11 1L8.5 8.5l.94-2.06 2.06-.94-2.06-.94L8.5 2.5l-.94 2.06-2.06.94zm10 10l.94 2.06.94-2.06 2.06-.94-2.06-.94-.94-2.06-.94 2.06-2.06.94z\"/><path d=\"M17.41 7.96l-1.37-1.37c-.4-.4-.92-.59-1.43-.59-.52 0-1.04.2-1.43.59L10.3 9.45l-7.72 7.72c-.78.78-.78 2.05 0 2.83L4 21.41c.39.39.9.59 1.41.59.51 0 1.02-.2 1.41-.59l7.78-7.78 2.81-2.81c.8-.78.8-2.07 0-2.86zM5.41 20L4 18.59l7.72-7.72 1.47 1.35L5.41 20z\"/>\n",
              "  </svg>\n",
              "      </button>\n",
              "      \n",
              "  <style>\n",
              "    .colab-df-container {\n",
              "      display:flex;\n",
              "      flex-wrap:wrap;\n",
              "      gap: 12px;\n",
              "    }\n",
              "\n",
              "    .colab-df-convert {\n",
              "      background-color: #E8F0FE;\n",
              "      border: none;\n",
              "      border-radius: 50%;\n",
              "      cursor: pointer;\n",
              "      display: none;\n",
              "      fill: #1967D2;\n",
              "      height: 32px;\n",
              "      padding: 0 0 0 0;\n",
              "      width: 32px;\n",
              "    }\n",
              "\n",
              "    .colab-df-convert:hover {\n",
              "      background-color: #E2EBFA;\n",
              "      box-shadow: 0px 1px 2px rgba(60, 64, 67, 0.3), 0px 1px 3px 1px rgba(60, 64, 67, 0.15);\n",
              "      fill: #174EA6;\n",
              "    }\n",
              "\n",
              "    [theme=dark] .colab-df-convert {\n",
              "      background-color: #3B4455;\n",
              "      fill: #D2E3FC;\n",
              "    }\n",
              "\n",
              "    [theme=dark] .colab-df-convert:hover {\n",
              "      background-color: #434B5C;\n",
              "      box-shadow: 0px 1px 3px 1px rgba(0, 0, 0, 0.15);\n",
              "      filter: drop-shadow(0px 1px 2px rgba(0, 0, 0, 0.3));\n",
              "      fill: #FFFFFF;\n",
              "    }\n",
              "  </style>\n",
              "\n",
              "      <script>\n",
              "        const buttonEl =\n",
              "          document.querySelector('#df-4cdab719-f529-4653-b4c3-0cce39e53ba8 button.colab-df-convert');\n",
              "        buttonEl.style.display =\n",
              "          google.colab.kernel.accessAllowed ? 'block' : 'none';\n",
              "\n",
              "        async function convertToInteractive(key) {\n",
              "          const element = document.querySelector('#df-4cdab719-f529-4653-b4c3-0cce39e53ba8');\n",
              "          const dataTable =\n",
              "            await google.colab.kernel.invokeFunction('convertToInteractive',\n",
              "                                                     [key], {});\n",
              "          if (!dataTable) return;\n",
              "\n",
              "          const docLinkHtml = 'Like what you see? Visit the ' +\n",
              "            '<a target=\"_blank\" href=https://colab.research.google.com/notebooks/data_table.ipynb>data table notebook</a>'\n",
              "            + ' to learn more about interactive tables.';\n",
              "          element.innerHTML = '';\n",
              "          dataTable['output_type'] = 'display_data';\n",
              "          await google.colab.output.renderOutput(dataTable, element);\n",
              "          const docLink = document.createElement('div');\n",
              "          docLink.innerHTML = docLinkHtml;\n",
              "          element.appendChild(docLink);\n",
              "        }\n",
              "      </script>\n",
              "    </div>\n",
              "  </div>\n",
              "  "
            ],
            "text/plain": [
              "   AGE  GENDER  PMPCOVID-19  ...  INSOMNIAC  PHQ-9 SCORE  DEPRESSED\n",
              "0    2       1            0  ...          1            2          0\n",
              "1    3       1            0  ...          1            4          0\n",
              "2    2       0            0  ...          1            9          1\n",
              "3    2       0            0  ...          0            0          0\n",
              "4    2       1            0  ...          1            5          1\n",
              "\n",
              "[5 rows x 24 columns]"
            ]
          },
          "metadata": {},
          "execution_count": 29
        }
      ]
    },
    {
      "cell_type": "code",
      "metadata": {
        "id": "CQLKIxkMkaOa"
      },
      "source": [
        "insomnicDF = depressionDataset\n",
        "insomnicDF['INSOMNIAC'] = insomnicDF['INSOMNIAC'].replace([0],'No')\n",
        "insomnicDF['INSOMNIAC'] = insomnicDF['INSOMNIAC'].replace([1],'Yes')"
      ],
      "execution_count": null,
      "outputs": []
    },
    {
      "cell_type": "code",
      "metadata": {
        "colab": {
          "base_uri": "https://localhost:8080/",
          "height": 386
        },
        "id": "mEdGmjtVkx-I",
        "outputId": "b4a1d489-74b6-4d40-9584-678db74de40d"
      },
      "source": [
        "fig = plt.figure(figsize=(7,5))\n",
        "sns.set_style('darkgrid')\n",
        "sns.countplot(depressionDataset['DEPRESSED'], hue=depressionDataset['INSOMNIAC'])\n",
        "plt.xlabel('DEPRESSED', weight='bold', fontsize=12)\n",
        "plt.ylabel('Frequency', weight='bold', fontsize=12)\n",
        "plt.xticks(weight='bold')\n",
        "plt.yticks(weight='bold')\n",
        "plt.tight_layout()\n",
        "plt.title('Insomnia in Depressed People', weight='bold', fontsize=14)\n",
        "plt.legend(title='Insomnia')\n",
        "plt.show()"
      ],
      "execution_count": null,
      "outputs": [
        {
          "output_type": "display_data",
          "data": {
            "image/png": "[encoded data removed]",
            "text/plain": [
              "<Figure size 504x360 with 1 Axes>"
            ]
          },
          "metadata": {
            "needs_background": "light"
          }
        }
      ]
    },
    {
      "cell_type": "markdown",
      "metadata": {
        "id": "GK4gpmpcbvA4"
      },
      "source": [
        "##**Visualization**"
      ]
    },
    {
      "cell_type": "code",
      "metadata": {
        "id": "QYHV8jNdcYE1"
      },
      "source": [
        "df = depressionDataset\n",
        "df['DEPRESSED'] = df['DEPRESSED'].replace([0],'No')\n",
        "df['DEPRESSED'] = df['DEPRESSED'].replace([1],'Yes')\n",
        "\n",
        "df['GENDER'] = df['GENDER'].replace([0],'Female')\n",
        "df['GENDER'] = df['GENDER'].replace([1],'Male')"
      ],
      "execution_count": null,
      "outputs": []
    },
    {
      "cell_type": "code",
      "metadata": {
        "colab": {
          "base_uri": "https://localhost:8080/",
          "height": 372
        },
        "id": "i83CCjHddQIv",
        "outputId": "251f8e7b-45d5-4df2-8b39-8163a31276e7"
      },
      "source": [
        "fig = plt.figure(figsize=(15,5))\n",
        "sns.set_style('darkgrid')\n",
        "fig.add_subplot(122)\n",
        "sns.kdeplot(depressionDataset['AGE'], hue=depressionDataset['GENDER'], multiple=\"stack\")\n",
        "plt.xlabel('Age', weight='bold', fontsize=12)\n",
        "plt.ylabel('Density', weight='bold', fontsize=12)\n",
        "plt.xticks(weight='bold')\n",
        "plt.yticks(weight='bold')\n",
        "plt.title('(B)', weight='bold', fontsize=14)"
      ],
      "execution_count": null,
      "outputs": [
        {
          "output_type": "execute_result",
          "data": {
            "text/plain": [
              "Text(0.5, 1.0, '(B)')"
            ]
          },
          "metadata": {},
          "execution_count": 33
        },
        {
          "output_type": "display_data",
          "data": {
            "image/png": "[encoded data removed]",
            "text/plain": [
              "<Figure size 1080x360 with 1 Axes>"
            ]
          },
          "metadata": {}
        }
      ]
    },
    {
      "cell_type": "code",
      "metadata": {
        "id": "tdoQCb2ldCKe"
      },
      "source": [
        "# ''' Detection '''\n",
        "# # IQR\n",
        "# Q1 = np.percentile(df['AGE'], 25, interpolation='midpoint')\n",
        "# Q3 = np.percentile(df['AGE'], 75, interpolation='midpoint')\n",
        "# IQR = Q3 - Q1\n",
        "# print(\"Old Shape: \", df.shape)\n",
        "\n",
        "\n",
        "# # Upper bound\n",
        "# upper = np.where(df['AGE'] >= (Q3 + 1.5 * IQR))\n",
        "# # Lower bound\n",
        "# lower = np.where(df['AGE'] <= (Q1 - 1.5 * IQR))\n",
        "\n",
        "# ''' Removing the Outliers '''\n",
        "# df1.drop(upper[0], inplace=True)\n",
        "# df1.drop(lower[0], inplace=True)\n",
        "\n",
        "# print(\"New Shape: \", df1.shape)"
      ],
      "execution_count": null,
      "outputs": []
    },
    {
      "cell_type": "code",
      "metadata": {
        "colab": {
          "base_uri": "https://localhost:8080/",
          "height": 369
        },
        "id": "wMz0HI54c2ud",
        "outputId": "3ca72fc6-399f-4ccc-a518-a20724675d0b"
      },
      "source": [
        "fig = plt.figure(figsize=(7,5))\n",
        "fig.add_subplot(121)\n",
        "sns.set_style('darkgrid')\n",
        "sns.boxplot(y=depressionDataset['AGE'])\n",
        "fig.add_subplot(122)\n",
        "sns.set_style('darkgrid')\n",
        "sns.boxplot(y=df['AGE'])\n",
        "plt.tight_layout()\n",
        "plt.show()"
      ],
      "execution_count": null,
      "outputs": [
        {
          "output_type": "display_data",
          "data": {
            "image/png": "[encoded data removed]",
            "text/plain": [
              "<Figure size 504x360 with 2 Axes>"
            ]
          },
          "metadata": {}
        }
      ]
    },
    {
      "cell_type": "code",
      "metadata": {
        "colab": {
          "base_uri": "https://localhost:8080/",
          "height": 369
        },
        "id": "NWj_5gg2cvlK",
        "outputId": "1d02cd35-d9c4-4ece-c180-9d5cba120c70"
      },
      "source": [
        "fig = plt.figure(figsize=(10,5))\n",
        "sns.set_style('darkgrid')\n",
        "sns.kdeplot(depressionDataset['AGE'], hue=depressionDataset['DEPRESSED'], multiple=\"stack\")\n",
        "plt.xlabel('Age', weight='bold', fontsize=12)\n",
        "plt.ylabel('Density', weight='bold', fontsize=12)\n",
        "plt.xticks(weight='bold')\n",
        "plt.yticks(weight='bold')\n",
        "plt.tight_layout()\n",
        "plt.show()"
      ],
      "execution_count": null,
      "outputs": [
        {
          "output_type": "display_data",
          "data": {
            "image/png": "[encoded data removed]",
            "text/plain": [
              "<Figure size 720x360 with 1 Axes>"
            ]
          },
          "metadata": {}
        }
      ]
    },
    {
      "cell_type": "code",
      "metadata": {
        "colab": {
          "base_uri": "https://localhost:8080/",
          "height": 369
        },
        "id": "CmoJBeiXcmdl",
        "outputId": "93a8424c-2b60-49ba-f380-b5b5d6857fa3"
      },
      "source": [
        "fig = plt.figure(figsize=(7,5))\n",
        "sns.set_style('darkgrid')\n",
        "sns.countplot(depressionDataset['GENDER'], hue=depressionDataset['DEPRESSED'])\n",
        "plt.xlabel('Gender', weight='bold', fontsize=12)\n",
        "plt.ylabel('Frequency', weight='bold', fontsize=12)\n",
        "plt.xticks(weight='bold')\n",
        "plt.yticks(weight='bold')\n",
        "plt.tight_layout()\n",
        "plt.show()"
      ],
      "execution_count": null,
      "outputs": [
        {
          "output_type": "display_data",
          "data": {
            "image/png": "[encoded data removed]",
            "text/plain": [
              "<Figure size 504x360 with 1 Axes>"
            ]
          },
          "metadata": {}
        }
      ]
    },
    {
      "cell_type": "code",
      "metadata": {
        "colab": {
          "base_uri": "https://localhost:8080/",
          "height": 369
        },
        "id": "WQLGeDUvbucg",
        "outputId": "e4492c03-a417-4fee-c217-70a94d40346d"
      },
      "source": [
        "fig = plt.figure(figsize=(10,5))\n",
        "sns.set_style('darkgrid')\n",
        "sns.countplot(depressionDataset['AGE'], hue=depressionDataset['DEPRESSED'])\n",
        "plt.xlabel('Age', weight='bold', fontsize=12)\n",
        "plt.ylabel('Frequency', weight='bold', fontsize=12)\n",
        "plt.xticks(weight='bold')\n",
        "plt.yticks(weight='bold')\n",
        "plt.legend(loc='upper right')\n",
        "plt.tight_layout()\n",
        "plt.show()"
      ],
      "execution_count": null,
      "outputs": [
        {
          "output_type": "display_data",
          "data": {
            "image/png": "[encoded data removed]",
            "text/plain": [
              "<Figure size 720x360 with 1 Axes>"
            ]
          },
          "metadata": {}
        }
      ]
    }
  ]
}